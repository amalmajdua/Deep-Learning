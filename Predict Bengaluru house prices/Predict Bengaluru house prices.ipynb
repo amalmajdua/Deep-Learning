{
 "cells": [
  {
   "cell_type": "code",
   "execution_count": 1,
   "id": "f4626633",
   "metadata": {},
   "outputs": [],
   "source": [
    "import torch\n",
    "import torch.nn as nn\n",
    "import torch.nn.functional as F\n",
    "import torch.optim as optim\n",
    "import matplotlib.pyplot as plt\n",
    "from sklearn.datasets import load_boston\n",
    "from sklearn import preprocessing\n",
    "from sklearn.metrics import r2_score\n",
    "from sklearn.model_selection import train_test_split\n",
    "import pandas as pd\n",
    "import numpy as np\n",
    "import matplotlib.pylab as plt\n",
    "import seaborn as sns\n",
    "sns.set()\n",
    "import seaborn as sns"
   ]
  },
  {
   "cell_type": "code",
   "execution_count": 2,
   "id": "a0f2e53e",
   "metadata": {},
   "outputs": [],
   "source": [
    "df = pd.read_csv('Bengaluru_House_Data.csv')"
   ]
  },
  {
   "cell_type": "code",
   "execution_count": 3,
   "id": "12f87b2a",
   "metadata": {},
   "outputs": [
    {
     "data": {
      "text/plain": [
       "(13320, 9)"
      ]
     },
     "execution_count": 3,
     "metadata": {},
     "output_type": "execute_result"
    }
   ],
   "source": [
    "df.shape"
   ]
  },
  {
   "cell_type": "code",
   "execution_count": 4,
   "id": "e8040162",
   "metadata": {},
   "outputs": [
    {
     "data": {
      "text/html": [
       "<div>\n",
       "<style scoped>\n",
       "    .dataframe tbody tr th:only-of-type {\n",
       "        vertical-align: middle;\n",
       "    }\n",
       "\n",
       "    .dataframe tbody tr th {\n",
       "        vertical-align: top;\n",
       "    }\n",
       "\n",
       "    .dataframe thead th {\n",
       "        text-align: right;\n",
       "    }\n",
       "</style>\n",
       "<table border=\"1\" class=\"dataframe\">\n",
       "  <thead>\n",
       "    <tr style=\"text-align: right;\">\n",
       "      <th></th>\n",
       "      <th>area_type</th>\n",
       "      <th>availability</th>\n",
       "      <th>location</th>\n",
       "      <th>size</th>\n",
       "      <th>society</th>\n",
       "      <th>total_sqft</th>\n",
       "      <th>bath</th>\n",
       "      <th>balcony</th>\n",
       "      <th>price</th>\n",
       "    </tr>\n",
       "  </thead>\n",
       "  <tbody>\n",
       "    <tr>\n",
       "      <th>0</th>\n",
       "      <td>Super built-up  Area</td>\n",
       "      <td>19-Dec</td>\n",
       "      <td>Electronic City Phase II</td>\n",
       "      <td>2 BHK</td>\n",
       "      <td>Coomee</td>\n",
       "      <td>1056</td>\n",
       "      <td>2.0</td>\n",
       "      <td>1.0</td>\n",
       "      <td>39.07</td>\n",
       "    </tr>\n",
       "    <tr>\n",
       "      <th>1</th>\n",
       "      <td>Plot  Area</td>\n",
       "      <td>Ready To Move</td>\n",
       "      <td>Chikka Tirupathi</td>\n",
       "      <td>4 Bedroom</td>\n",
       "      <td>Theanmp</td>\n",
       "      <td>2600</td>\n",
       "      <td>5.0</td>\n",
       "      <td>3.0</td>\n",
       "      <td>120.00</td>\n",
       "    </tr>\n",
       "    <tr>\n",
       "      <th>2</th>\n",
       "      <td>Built-up  Area</td>\n",
       "      <td>Ready To Move</td>\n",
       "      <td>Uttarahalli</td>\n",
       "      <td>3 BHK</td>\n",
       "      <td>NaN</td>\n",
       "      <td>1440</td>\n",
       "      <td>2.0</td>\n",
       "      <td>3.0</td>\n",
       "      <td>62.00</td>\n",
       "    </tr>\n",
       "    <tr>\n",
       "      <th>3</th>\n",
       "      <td>Super built-up  Area</td>\n",
       "      <td>Ready To Move</td>\n",
       "      <td>Lingadheeranahalli</td>\n",
       "      <td>3 BHK</td>\n",
       "      <td>Soiewre</td>\n",
       "      <td>1521</td>\n",
       "      <td>3.0</td>\n",
       "      <td>1.0</td>\n",
       "      <td>95.00</td>\n",
       "    </tr>\n",
       "    <tr>\n",
       "      <th>4</th>\n",
       "      <td>Super built-up  Area</td>\n",
       "      <td>Ready To Move</td>\n",
       "      <td>Kothanur</td>\n",
       "      <td>2 BHK</td>\n",
       "      <td>NaN</td>\n",
       "      <td>1200</td>\n",
       "      <td>2.0</td>\n",
       "      <td>1.0</td>\n",
       "      <td>51.00</td>\n",
       "    </tr>\n",
       "    <tr>\n",
       "      <th>...</th>\n",
       "      <td>...</td>\n",
       "      <td>...</td>\n",
       "      <td>...</td>\n",
       "      <td>...</td>\n",
       "      <td>...</td>\n",
       "      <td>...</td>\n",
       "      <td>...</td>\n",
       "      <td>...</td>\n",
       "      <td>...</td>\n",
       "    </tr>\n",
       "    <tr>\n",
       "      <th>13315</th>\n",
       "      <td>Built-up  Area</td>\n",
       "      <td>Ready To Move</td>\n",
       "      <td>Whitefield</td>\n",
       "      <td>5 Bedroom</td>\n",
       "      <td>ArsiaEx</td>\n",
       "      <td>3453</td>\n",
       "      <td>4.0</td>\n",
       "      <td>0.0</td>\n",
       "      <td>231.00</td>\n",
       "    </tr>\n",
       "    <tr>\n",
       "      <th>13316</th>\n",
       "      <td>Super built-up  Area</td>\n",
       "      <td>Ready To Move</td>\n",
       "      <td>Richards Town</td>\n",
       "      <td>4 BHK</td>\n",
       "      <td>NaN</td>\n",
       "      <td>3600</td>\n",
       "      <td>5.0</td>\n",
       "      <td>NaN</td>\n",
       "      <td>400.00</td>\n",
       "    </tr>\n",
       "    <tr>\n",
       "      <th>13317</th>\n",
       "      <td>Built-up  Area</td>\n",
       "      <td>Ready To Move</td>\n",
       "      <td>Raja Rajeshwari Nagar</td>\n",
       "      <td>2 BHK</td>\n",
       "      <td>Mahla T</td>\n",
       "      <td>1141</td>\n",
       "      <td>2.0</td>\n",
       "      <td>1.0</td>\n",
       "      <td>60.00</td>\n",
       "    </tr>\n",
       "    <tr>\n",
       "      <th>13318</th>\n",
       "      <td>Super built-up  Area</td>\n",
       "      <td>18-Jun</td>\n",
       "      <td>Padmanabhanagar</td>\n",
       "      <td>4 BHK</td>\n",
       "      <td>SollyCl</td>\n",
       "      <td>4689</td>\n",
       "      <td>4.0</td>\n",
       "      <td>1.0</td>\n",
       "      <td>488.00</td>\n",
       "    </tr>\n",
       "    <tr>\n",
       "      <th>13319</th>\n",
       "      <td>Super built-up  Area</td>\n",
       "      <td>Ready To Move</td>\n",
       "      <td>Doddathoguru</td>\n",
       "      <td>1 BHK</td>\n",
       "      <td>NaN</td>\n",
       "      <td>550</td>\n",
       "      <td>1.0</td>\n",
       "      <td>1.0</td>\n",
       "      <td>17.00</td>\n",
       "    </tr>\n",
       "  </tbody>\n",
       "</table>\n",
       "<p>13320 rows × 9 columns</p>\n",
       "</div>"
      ],
      "text/plain": [
       "                  area_type   availability                  location  \\\n",
       "0      Super built-up  Area         19-Dec  Electronic City Phase II   \n",
       "1                Plot  Area  Ready To Move          Chikka Tirupathi   \n",
       "2            Built-up  Area  Ready To Move               Uttarahalli   \n",
       "3      Super built-up  Area  Ready To Move        Lingadheeranahalli   \n",
       "4      Super built-up  Area  Ready To Move                  Kothanur   \n",
       "...                     ...            ...                       ...   \n",
       "13315        Built-up  Area  Ready To Move                Whitefield   \n",
       "13316  Super built-up  Area  Ready To Move             Richards Town   \n",
       "13317        Built-up  Area  Ready To Move     Raja Rajeshwari Nagar   \n",
       "13318  Super built-up  Area         18-Jun           Padmanabhanagar   \n",
       "13319  Super built-up  Area  Ready To Move              Doddathoguru   \n",
       "\n",
       "            size  society total_sqft  bath  balcony   price  \n",
       "0          2 BHK  Coomee        1056   2.0      1.0   39.07  \n",
       "1      4 Bedroom  Theanmp       2600   5.0      3.0  120.00  \n",
       "2          3 BHK      NaN       1440   2.0      3.0   62.00  \n",
       "3          3 BHK  Soiewre       1521   3.0      1.0   95.00  \n",
       "4          2 BHK      NaN       1200   2.0      1.0   51.00  \n",
       "...          ...      ...        ...   ...      ...     ...  \n",
       "13315  5 Bedroom  ArsiaEx       3453   4.0      0.0  231.00  \n",
       "13316      4 BHK      NaN       3600   5.0      NaN  400.00  \n",
       "13317      2 BHK  Mahla T       1141   2.0      1.0   60.00  \n",
       "13318      4 BHK  SollyCl       4689   4.0      1.0  488.00  \n",
       "13319      1 BHK      NaN        550   1.0      1.0   17.00  \n",
       "\n",
       "[13320 rows x 9 columns]"
      ]
     },
     "execution_count": 4,
     "metadata": {},
     "output_type": "execute_result"
    }
   ],
   "source": [
    "df"
   ]
  },
  {
   "cell_type": "code",
   "execution_count": 5,
   "id": "ce42860c",
   "metadata": {},
   "outputs": [
    {
     "data": {
      "text/plain": [
       "area_type          0\n",
       "availability       0\n",
       "location           1\n",
       "size              16\n",
       "society         5502\n",
       "total_sqft         0\n",
       "bath              73\n",
       "balcony          609\n",
       "price              0\n",
       "dtype: int64"
      ]
     },
     "execution_count": 5,
     "metadata": {},
     "output_type": "execute_result"
    }
   ],
   "source": [
    "df.isna().sum()"
   ]
  },
  {
   "cell_type": "code",
   "execution_count": 6,
   "id": "2702a69d",
   "metadata": {},
   "outputs": [
    {
     "data": {
      "text/plain": [
       "(7496, 9)"
      ]
     },
     "execution_count": 6,
     "metadata": {},
     "output_type": "execute_result"
    }
   ],
   "source": [
    "df.dropna().shape"
   ]
  },
  {
   "cell_type": "code",
   "execution_count": 7,
   "id": "01b487de",
   "metadata": {},
   "outputs": [
    {
     "data": {
      "text/plain": [
       "Index(['area_type', 'availability', 'location', 'size', 'society',\n",
       "       'total_sqft', 'bath', 'balcony', 'price'],\n",
       "      dtype='object')"
      ]
     },
     "execution_count": 7,
     "metadata": {},
     "output_type": "execute_result"
    }
   ],
   "source": [
    "df.columns"
   ]
  },
  {
   "cell_type": "code",
   "execution_count": 8,
   "id": "c77fc95f",
   "metadata": {},
   "outputs": [
    {
     "data": {
      "text/html": [
       "<div>\n",
       "<style scoped>\n",
       "    .dataframe tbody tr th:only-of-type {\n",
       "        vertical-align: middle;\n",
       "    }\n",
       "\n",
       "    .dataframe tbody tr th {\n",
       "        vertical-align: top;\n",
       "    }\n",
       "\n",
       "    .dataframe thead th {\n",
       "        text-align: right;\n",
       "    }\n",
       "</style>\n",
       "<table border=\"1\" class=\"dataframe\">\n",
       "  <thead>\n",
       "    <tr style=\"text-align: right;\">\n",
       "      <th></th>\n",
       "      <th>bath</th>\n",
       "      <th>balcony</th>\n",
       "      <th>price</th>\n",
       "    </tr>\n",
       "  </thead>\n",
       "  <tbody>\n",
       "    <tr>\n",
       "      <th>count</th>\n",
       "      <td>13247.000000</td>\n",
       "      <td>12711.000000</td>\n",
       "      <td>13320.000000</td>\n",
       "    </tr>\n",
       "    <tr>\n",
       "      <th>mean</th>\n",
       "      <td>2.692610</td>\n",
       "      <td>1.584376</td>\n",
       "      <td>112.565627</td>\n",
       "    </tr>\n",
       "    <tr>\n",
       "      <th>std</th>\n",
       "      <td>1.341458</td>\n",
       "      <td>0.817263</td>\n",
       "      <td>148.971674</td>\n",
       "    </tr>\n",
       "    <tr>\n",
       "      <th>min</th>\n",
       "      <td>1.000000</td>\n",
       "      <td>0.000000</td>\n",
       "      <td>8.000000</td>\n",
       "    </tr>\n",
       "    <tr>\n",
       "      <th>25%</th>\n",
       "      <td>2.000000</td>\n",
       "      <td>1.000000</td>\n",
       "      <td>50.000000</td>\n",
       "    </tr>\n",
       "    <tr>\n",
       "      <th>50%</th>\n",
       "      <td>2.000000</td>\n",
       "      <td>2.000000</td>\n",
       "      <td>72.000000</td>\n",
       "    </tr>\n",
       "    <tr>\n",
       "      <th>75%</th>\n",
       "      <td>3.000000</td>\n",
       "      <td>2.000000</td>\n",
       "      <td>120.000000</td>\n",
       "    </tr>\n",
       "    <tr>\n",
       "      <th>max</th>\n",
       "      <td>40.000000</td>\n",
       "      <td>3.000000</td>\n",
       "      <td>3600.000000</td>\n",
       "    </tr>\n",
       "  </tbody>\n",
       "</table>\n",
       "</div>"
      ],
      "text/plain": [
       "               bath       balcony         price\n",
       "count  13247.000000  12711.000000  13320.000000\n",
       "mean       2.692610      1.584376    112.565627\n",
       "std        1.341458      0.817263    148.971674\n",
       "min        1.000000      0.000000      8.000000\n",
       "25%        2.000000      1.000000     50.000000\n",
       "50%        2.000000      2.000000     72.000000\n",
       "75%        3.000000      2.000000    120.000000\n",
       "max       40.000000      3.000000   3600.000000"
      ]
     },
     "execution_count": 8,
     "metadata": {},
     "output_type": "execute_result"
    }
   ],
   "source": [
    "df.describe()"
   ]
  },
  {
   "cell_type": "code",
   "execution_count": 9,
   "id": "d3020f5c",
   "metadata": {},
   "outputs": [
    {
     "data": {
      "text/plain": [
       "<seaborn.axisgrid.PairGrid at 0x7fd3d005d520>"
      ]
     },
     "execution_count": 9,
     "metadata": {},
     "output_type": "execute_result"
    },
    {
     "data": {
      "image/png": "[encoded data removed]",
      "text/plain": [
       "<Figure size 540x540 with 12 Axes>"
      ]
     },
     "metadata": {},
     "output_type": "display_data"
    }
   ],
   "source": [
    "sns.pairplot(df)"
   ]
  },
  {
   "cell_type": "code",
   "execution_count": 10,
   "id": "7ab41530",
   "metadata": {},
   "outputs": [
    {
     "data": {
      "text/plain": [
       "<AxesSubplot:>"
      ]
     },
     "execution_count": 10,
     "metadata": {},
     "output_type": "execute_result"
    },
    {
     "data": {
      "image/png": "[encoded data removed]",
      "text/plain": [
       "<Figure size 432x288 with 2 Axes>"
      ]
     },
     "metadata": {},
     "output_type": "display_data"
    }
   ],
   "source": [
    "sns.heatmap(df.corr(),cmap='viridis')"
   ]
  },
  {
   "cell_type": "code",
   "execution_count": 11,
   "id": "7a7af335",
   "metadata": {},
   "outputs": [
    {
     "name": "stderr",
     "output_type": "stream",
     "text": [
      "/Users/amalmajdua/opt/anaconda3/lib/python3.9/site-packages/seaborn/_decorators.py:36: FutureWarning: Pass the following variables as keyword args: x, y. From version 0.12, the only valid positional argument will be `data`, and passing other arguments without an explicit keyword will result in an error or misinterpretation.\n",
      "  warnings.warn(\n"
     ]
    },
    {
     "data": {
      "text/plain": [
       "<AxesSubplot:xlabel='size', ylabel='price'>"
      ]
     },
     "execution_count": 11,
     "metadata": {},
     "output_type": "execute_result"
    },
    {
     "data": {
      "image/png": "[encoded data removed]",
      "text/plain": [
       "<Figure size 432x288 with 1 Axes>"
      ]
     },
     "metadata": {},
     "output_type": "display_data"
    }
   ],
   "source": [
    "sns.boxplot('size','price',data=df)"
   ]
  },
  {
   "cell_type": "code",
   "execution_count": 12,
   "id": "3fc428e3",
   "metadata": {},
   "outputs": [],
   "source": [
    "category = df.select_dtypes(include=['object']).columns.tolist()\n",
    "\n",
    "for col in category:\n",
    "    df[col] = df[col].fillna(df[col].mode())"
   ]
  },
  {
   "cell_type": "code",
   "execution_count": 13,
   "id": "508de4f7",
   "metadata": {},
   "outputs": [],
   "source": [
    "numeric = df.select_dtypes(include=np.number).columns.tolist()\n",
    "\n",
    "for col in numeric:\n",
    "    df[col] = df[col].fillna(df[col].mean())"
   ]
  },
  {
   "cell_type": "code",
   "execution_count": 14,
   "id": "58f8e2fb",
   "metadata": {},
   "outputs": [],
   "source": [
    "X = df[numeric]\n",
    "Y = df['price']"
   ]
  },
  {
   "cell_type": "code",
   "execution_count": 15,
   "id": "f8698e41",
   "metadata": {},
   "outputs": [],
   "source": [
    "sscaler = preprocessing.StandardScaler()\n",
    "sscaler.fit(X)\n",
    "XX = sscaler.transform(X)   #X-1"
   ]
  },
  {
   "cell_type": "code",
   "execution_count": 16,
   "id": "c3a2510c",
   "metadata": {},
   "outputs": [],
   "source": [
    "X_train, X_test, Y_train, Y_test = train_test_split(XX, Y, test_size=0.3, random_state=72)"
   ]
  },
  {
   "cell_type": "code",
   "execution_count": 17,
   "id": "2c862078",
   "metadata": {},
   "outputs": [],
   "source": [
    "class NeuralNetwork(nn.Module):\n",
    "        def __init__(self):\n",
    "            super(NeuralNetwork, self).__init__()\n",
    "            self.layer1 = nn.Linear(X_train.shape[1], 32) \n",
    "            self.layer2 = nn.Linear(32, 128)\n",
    "            self.layer3 = nn.Linear(128, 1)\n",
    "            \n",
    "\n",
    "        def forward(self, x):\n",
    "            x = F.relu( self.layer1(x) )\n",
    "            x = F.relu( self.layer2(x) )\n",
    "            x = self.layer3(x)\n",
    "\n",
    "            return x\n",
    "\n"
   ]
  },
  {
   "cell_type": "code",
   "execution_count": 18,
   "id": "8029bc91",
   "metadata": {},
   "outputs": [
    {
     "name": "stdout",
     "output_type": "stream",
     "text": [
      "NeuralNetwork(\n",
      "  (layer1): Linear(in_features=3, out_features=32, bias=True)\n",
      "  (layer2): Linear(in_features=32, out_features=128, bias=True)\n",
      "  (layer3): Linear(in_features=128, out_features=1, bias=True)\n",
      ")\n"
     ]
    }
   ],
   "source": [
    "net = NeuralNetwork()\n",
    "print(net)"
   ]
  },
  {
   "cell_type": "code",
   "execution_count": 19,
   "id": "c132d8e8",
   "metadata": {},
   "outputs": [],
   "source": [
    "#Transformation into tensor\n",
    "x = torch.tensor(np.array(X_train), dtype=torch.float)\n",
    "y = torch.tensor(np.array(Y_train).reshape(-1, 1), dtype=torch.float)"
   ]
  },
  {
   "cell_type": "code",
   "execution_count": 20,
   "id": "fd234765",
   "metadata": {},
   "outputs": [],
   "source": [
    "optimi = optim.Adam(net.parameters(), lr=0.001)"
   ]
  },
  {
   "cell_type": "code",
   "execution_count": 21,
   "id": "8c77d99f",
   "metadata": {},
   "outputs": [],
   "source": [
    "#loss function\n",
    "loss_ = nn.MSELoss()"
   ]
  },
  {
   "cell_type": "code",
   "execution_count": 22,
   "id": "e54b0bc7",
   "metadata": {},
   "outputs": [
    {
     "name": "stdout",
     "output_type": "stream",
     "text": [
      "epoch: 5,loss: 35718.71875\n",
      "epoch: 10,loss: 35647.39062\n",
      "epoch: 15,loss: 35570.35938\n",
      "epoch: 20,loss: 35483.49219\n",
      "epoch: 25,loss: 35382.27344\n",
      "epoch: 30,loss: 35261.86328\n",
      "epoch: 35,loss: 35117.77734\n",
      "epoch: 40,loss: 34945.86719\n",
      "epoch: 45,loss: 34740.48047\n",
      "epoch: 50,loss: 34496.47266\n",
      "epoch: 55,loss: 34209.23047\n",
      "epoch: 60,loss: 33873.77344\n",
      "epoch: 65,loss: 33487.19141\n",
      "epoch: 70,loss: 33045.87109\n",
      "epoch: 75,loss: 32546.09375\n",
      "epoch: 80,loss: 31983.89648\n",
      "epoch: 85,loss: 31355.11328\n",
      "epoch: 90,loss: 30656.74805\n",
      "epoch: 95,loss: 29887.47852\n",
      "epoch: 100,loss: 29046.41797\n",
      "epoch: 105,loss: 28133.19141\n",
      "epoch: 110,loss: 27148.74805\n",
      "epoch: 115,loss: 26095.32617\n",
      "epoch: 120,loss: 24978.14453\n",
      "epoch: 125,loss: 23803.79102\n",
      "epoch: 130,loss: 22580.60742\n",
      "epoch: 135,loss: 21318.20117\n",
      "epoch: 140,loss: 20029.19922\n",
      "epoch: 145,loss: 18726.65820\n",
      "epoch: 150,loss: 17425.06641\n",
      "epoch: 155,loss: 16140.06055\n",
      "epoch: 160,loss: 14889.94922\n",
      "epoch: 165,loss: 13690.13770\n",
      "epoch: 170,loss: 12554.42773\n",
      "epoch: 175,loss: 11493.14160\n",
      "epoch: 180,loss: 10515.75977\n",
      "epoch: 185,loss: 9629.37305\n",
      "epoch: 190,loss: 8834.80273\n",
      "epoch: 195,loss: 8128.00781\n",
      "epoch: 200,loss: 7501.39014\n",
      "epoch: 205,loss: 6944.50879\n",
      "epoch: 210,loss: 6445.25293\n",
      "epoch: 215,loss: 5991.94141\n",
      "epoch: 220,loss: 5575.01855\n",
      "epoch: 225,loss: 5187.83594\n",
      "epoch: 230,loss: 4825.20508\n",
      "epoch: 235,loss: 4482.59229\n",
      "epoch: 240,loss: 4158.07666\n",
      "epoch: 245,loss: 3852.56982\n",
      "epoch: 250,loss: 3564.89673\n",
      "epoch: 255,loss: 3293.89844\n",
      "epoch: 260,loss: 3038.02026\n",
      "epoch: 265,loss: 2797.21436\n",
      "epoch: 270,loss: 2571.00952\n",
      "epoch: 275,loss: 2358.95410\n",
      "epoch: 280,loss: 2160.64868\n",
      "epoch: 285,loss: 1975.90173\n",
      "epoch: 290,loss: 1804.18469\n",
      "epoch: 295,loss: 1644.78760\n",
      "epoch: 300,loss: 1497.22375\n",
      "epoch: 305,loss: 1360.79724\n",
      "epoch: 310,loss: 1234.72595\n",
      "epoch: 315,loss: 1118.43127\n",
      "epoch: 320,loss: 1011.45819\n",
      "epoch: 325,loss: 913.26971\n",
      "epoch: 330,loss: 823.35309\n",
      "epoch: 335,loss: 741.31128\n",
      "epoch: 340,loss: 666.59924\n",
      "epoch: 345,loss: 598.72174\n",
      "epoch: 350,loss: 537.22076\n",
      "epoch: 355,loss: 481.68100\n",
      "epoch: 360,loss: 431.58704\n",
      "epoch: 365,loss: 386.51379\n",
      "epoch: 370,loss: 346.08615\n",
      "epoch: 375,loss: 309.90381\n",
      "epoch: 380,loss: 277.58911\n",
      "epoch: 385,loss: 248.78395\n",
      "epoch: 390,loss: 223.16629\n",
      "epoch: 395,loss: 200.43201\n",
      "epoch: 400,loss: 180.28253\n",
      "epoch: 405,loss: 162.44920\n",
      "epoch: 410,loss: 146.68353\n",
      "epoch: 415,loss: 132.76816\n",
      "epoch: 420,loss: 120.53091\n",
      "epoch: 425,loss: 109.74232\n",
      "epoch: 430,loss: 100.23266\n",
      "epoch: 435,loss: 91.84649\n",
      "epoch: 440,loss: 84.43631\n",
      "epoch: 445,loss: 77.88283\n",
      "epoch: 450,loss: 72.07696\n",
      "epoch: 455,loss: 66.92493\n",
      "epoch: 460,loss: 62.34297\n",
      "epoch: 465,loss: 58.25697\n",
      "epoch: 470,loss: 54.60358\n",
      "epoch: 475,loss: 51.32531\n",
      "epoch: 480,loss: 48.37543\n",
      "epoch: 485,loss: 45.71638\n",
      "epoch: 490,loss: 43.31301\n",
      "epoch: 495,loss: 41.12986\n",
      "epoch: 500,loss: 39.14017\n",
      "epoch: 505,loss: 37.32604\n",
      "epoch: 510,loss: 35.66062\n",
      "epoch: 515,loss: 34.12732\n",
      "epoch: 520,loss: 32.71084\n",
      "epoch: 525,loss: 31.39698\n",
      "epoch: 530,loss: 30.17631\n",
      "epoch: 535,loss: 29.03937\n",
      "epoch: 540,loss: 27.97913\n",
      "epoch: 545,loss: 26.98761\n",
      "epoch: 550,loss: 26.05962\n",
      "epoch: 555,loss: 25.18922\n",
      "epoch: 560,loss: 24.36860\n",
      "epoch: 565,loss: 23.59159\n",
      "epoch: 570,loss: 22.85890\n",
      "epoch: 575,loss: 22.16771\n",
      "epoch: 580,loss: 21.51315\n",
      "epoch: 585,loss: 20.89380\n",
      "epoch: 590,loss: 20.31029\n",
      "epoch: 595,loss: 19.76218\n",
      "epoch: 600,loss: 19.24602\n",
      "epoch: 605,loss: 18.76041\n",
      "epoch: 610,loss: 18.30392\n",
      "epoch: 615,loss: 17.87609\n",
      "epoch: 620,loss: 17.47413\n",
      "epoch: 625,loss: 17.09607\n",
      "epoch: 630,loss: 16.73997\n",
      "epoch: 635,loss: 16.40411\n",
      "epoch: 640,loss: 16.08705\n",
      "epoch: 645,loss: 15.78715\n",
      "epoch: 650,loss: 15.50290\n",
      "epoch: 655,loss: 15.23306\n",
      "epoch: 660,loss: 14.97654\n",
      "epoch: 665,loss: 14.73241\n",
      "epoch: 670,loss: 14.50025\n",
      "epoch: 675,loss: 14.27899\n",
      "epoch: 680,loss: 14.06740\n",
      "epoch: 685,loss: 13.86492\n",
      "epoch: 690,loss: 13.67059\n",
      "epoch: 695,loss: 13.48325\n",
      "epoch: 700,loss: 13.30247\n",
      "epoch: 705,loss: 13.12739\n",
      "epoch: 710,loss: 12.95697\n",
      "epoch: 715,loss: 12.79047\n",
      "epoch: 720,loss: 12.62845\n",
      "epoch: 725,loss: 12.47136\n",
      "epoch: 730,loss: 12.31819\n",
      "epoch: 735,loss: 12.16806\n",
      "epoch: 740,loss: 12.02174\n",
      "epoch: 745,loss: 11.87930\n",
      "epoch: 750,loss: 11.74062\n",
      "epoch: 755,loss: 11.60553\n",
      "epoch: 760,loss: 11.47412\n",
      "epoch: 765,loss: 11.34671\n",
      "epoch: 770,loss: 11.22266\n",
      "epoch: 775,loss: 11.10168\n",
      "epoch: 780,loss: 10.98377\n",
      "epoch: 785,loss: 10.86902\n",
      "epoch: 790,loss: 10.75686\n",
      "epoch: 795,loss: 10.64828\n",
      "epoch: 800,loss: 10.54177\n",
      "epoch: 805,loss: 10.43708\n",
      "epoch: 810,loss: 10.33432\n",
      "epoch: 815,loss: 10.23274\n",
      "epoch: 820,loss: 10.13186\n",
      "epoch: 825,loss: 10.03206\n",
      "epoch: 830,loss: 9.93348\n",
      "epoch: 835,loss: 9.83588\n",
      "epoch: 840,loss: 9.73958\n",
      "epoch: 845,loss: 9.64406\n",
      "epoch: 850,loss: 9.54851\n",
      "epoch: 855,loss: 9.45379\n",
      "epoch: 860,loss: 9.35998\n",
      "epoch: 865,loss: 9.26723\n",
      "epoch: 870,loss: 9.17519\n",
      "epoch: 875,loss: 9.08413\n",
      "epoch: 880,loss: 8.99394\n",
      "epoch: 885,loss: 8.90448\n",
      "epoch: 890,loss: 8.81614\n",
      "epoch: 895,loss: 8.72850\n",
      "epoch: 900,loss: 8.64096\n",
      "epoch: 905,loss: 8.55451\n",
      "epoch: 910,loss: 8.46913\n",
      "epoch: 915,loss: 8.38466\n",
      "epoch: 920,loss: 8.30118\n",
      "epoch: 925,loss: 8.21859\n",
      "epoch: 930,loss: 8.13774\n",
      "epoch: 935,loss: 8.05788\n",
      "epoch: 940,loss: 7.97831\n",
      "epoch: 945,loss: 7.89890\n",
      "epoch: 950,loss: 7.81960\n",
      "epoch: 955,loss: 7.74072\n",
      "epoch: 960,loss: 7.66230\n",
      "epoch: 965,loss: 7.58432\n",
      "epoch: 970,loss: 7.50700\n",
      "epoch: 975,loss: 7.43011\n",
      "epoch: 980,loss: 7.35326\n",
      "epoch: 985,loss: 7.27681\n",
      "epoch: 990,loss: 7.20113\n",
      "epoch: 995,loss: 7.12626\n",
      "epoch: 1000,loss: 7.05214\n",
      "epoch: 1005,loss: 6.97895\n",
      "epoch: 1010,loss: 6.90623\n",
      "epoch: 1015,loss: 6.83392\n",
      "epoch: 1020,loss: 6.76205\n",
      "epoch: 1025,loss: 6.69068\n",
      "epoch: 1030,loss: 6.62010\n",
      "epoch: 1035,loss: 6.55030\n",
      "epoch: 1040,loss: 6.48133\n",
      "epoch: 1045,loss: 6.41337\n",
      "epoch: 1050,loss: 6.34619\n",
      "epoch: 1055,loss: 6.27930\n",
      "epoch: 1060,loss: 6.21311\n",
      "epoch: 1065,loss: 6.14773\n",
      "epoch: 1070,loss: 6.08332\n",
      "epoch: 1075,loss: 6.02004\n",
      "epoch: 1080,loss: 5.95784\n",
      "epoch: 1085,loss: 5.89649\n",
      "epoch: 1090,loss: 5.83577\n",
      "epoch: 1095,loss: 5.77574\n",
      "epoch: 1100,loss: 5.71638\n"
     ]
    }
   ],
   "source": [
    "# Epoch\n",
    "epochs = 1100\n",
    "finalloss=[]\n",
    "\n",
    "for i in range(epochs):\n",
    "  i+=1\n",
    "  # initialize the gradient of model parameters\n",
    "  # calculate the loss\n",
    "  y_val = net(x)\n",
    "  loss = loss_(y_val, y)\n",
    "  finalloss.append(loss)\n",
    "  # Update parameters\n",
    "  if (i % 5) == 0:\n",
    "      print('epoch: {},'.format(i) + 'loss: {:.5f}'.format(loss))\n",
    "  optimi.zero_grad()\n",
    "  # Backpropagation\n",
    "  loss.backward()\n",
    "  optimi.step()"
   ]
  },
  {
   "cell_type": "code",
   "execution_count": 23,
   "id": "85a160a5",
   "metadata": {},
   "outputs": [],
   "source": [
    "# Prediction\n",
    "Y_train_pred = net(torch.tensor(X_train, dtype=torch.float))\n",
    "Y_test_pred = net(torch.tensor(X_test, dtype=torch.float))\n",
    "\n"
   ]
  },
  {
   "cell_type": "code",
   "execution_count": 24,
   "id": "9e6f9859",
   "metadata": {},
   "outputs": [],
   "source": [
    "Y_train_pred = Y_train_pred.detach().numpy()\n",
    "Y_test_pred = Y_test_pred.detach().numpy()"
   ]
  },
  {
   "cell_type": "code",
   "execution_count": 25,
   "id": "e104a397",
   "metadata": {},
   "outputs": [
    {
     "name": "stdout",
     "output_type": "stream",
     "text": [
      "0.999779435191194\n"
     ]
    }
   ],
   "source": [
    "\n",
    "R= r2_score(Y_test, Y_test_pred)\n",
    "print(R)\n",
    "\n"
   ]
  },
  {
   "cell_type": "code",
   "execution_count": null,
   "id": "62b08be9",
   "metadata": {},
   "outputs": [],
   "source": []
  }
 ],
 "metadata": {
  "kernelspec": {
   "display_name": "Python 3 (ipykernel)",
   "language": "python",
   "name": "python3"
  },
  "language_info": {
   "codemirror_mode": {
    "name": "ipython",
    "version": 3
   },
   "file_extension": ".py",
   "mimetype": "text/x-python",
   "name": "python",
   "nbconvert_exporter": "python",
   "pygments_lexer": "ipython3",
   "version": "3.9.12"
  }
 },
 "nbformat": 4,
 "nbformat_minor": 5
}
