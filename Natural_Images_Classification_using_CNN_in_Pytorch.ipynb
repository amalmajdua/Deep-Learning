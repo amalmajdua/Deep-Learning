{
  "nbformat": 4,
  "nbformat_minor": 0,
  "metadata": {
    "colab": {
      "provenance": [],
      "authorship_tag": "ABX9TyOPjl+so1WEUWIm4H40FB/u",
      "include_colab_link": true
    },
    "kernelspec": {
      "name": "python3",
      "display_name": "Python 3"
    },
    "language_info": {
      "name": "python"
    },
    "accelerator": "GPU",
    "gpuClass": "standard"
  },
  "cells": [
    {
      "cell_type": "markdown",
      "metadata": {
        "id": "view-in-github",
        "colab_type": "text"
      },
      "source": [
        "<a href=\"https://colab.research.google.com/github/amalmajdua/Deep-Learning/blob/main/Natural_Images_Classification_using_CNN_in_Pytorch.ipynb\" target=\"_parent\"><img src=\"https://colab.research.google.com/assets/colab-badge.svg\" alt=\"Open In Colab\"/></a>"
      ]
    },
    {
      "cell_type": "markdown",
      "source": [
        "***Note***\n",
        "\n",
        " ***Get data from Kaggle for 8 categories of images via the link below:***\n",
        "\n",
        " \n",
        " https://www.kaggle.com/datasets/prasunroy/natural-images\n",
        "\n",
        "\n",
        " ***Read the data from Google drive because it is large***"
      ],
      "metadata": {
        "id": "snqYNnwvUr4m"
      }
    },
    {
      "cell_type": "code",
      "source": [
        "from google.colab import drive\n",
        "drive.mount('/content/drive')"
      ],
      "metadata": {
        "colab": {
          "base_uri": "https://localhost:8080/"
        },
        "id": "L2TjGj4rSGnX",
        "outputId": "12db32d5-a80b-4994-9387-e102abacca42"
      },
      "execution_count": 1,
      "outputs": [
        {
          "output_type": "stream",
          "name": "stdout",
          "text": [
            "Mounted at /content/drive\n"
          ]
        }
      ]
    },
    {
      "cell_type": "code",
      "source": [
        "import numpy as np \n",
        "import pandas as pd \n",
        "import matplotlib.pyplot as plt\n",
        "from matplotlib import image as mp_image\n",
        "import seaborn as sns\n",
        "from sklearn import metrics\n",
        "from sklearn.metrics import accuracy_score, confusion_matrix\n",
        "from sklearn.model_selection import train_test_split\n",
        "import torch\n",
        "import torchvision\n",
        "import torchvision.transforms as transforms\n",
        "import torch.nn as nn\n",
        "import torch.optim as optim\n",
        "import torch.nn.functional as F\n",
        "\n",
        "\n",
        "import os\n",
        "import shutil"
      ],
      "metadata": {
        "id": "Vi3mo5cbSL8_"
      },
      "execution_count": 2,
      "outputs": []
    },
    {
      "cell_type": "markdown",
      "source": [
        "# **List Data Labels / Classes**"
      ],
      "metadata": {
        "id": "ubrOD6EgS3yb"
      }
    },
    {
      "cell_type": "code",
      "source": [
        "original_data_path = r'/content/drive/MyDrive/CNN/natural_images'\n",
        "real_data_path = r'/content/drive/MyDrive/CNN/real'\n",
        "labels = sorted(os.listdir(original_data_path))\n",
        "print(labels)"
      ],
      "metadata": {
        "id": "4VJqLiz4SRAs",
        "colab": {
          "base_uri": "https://localhost:8080/"
        },
        "outputId": "6818b922-7b6f-4614-fc39-c7bd55ad7621"
      },
      "execution_count": 3,
      "outputs": [
        {
          "output_type": "stream",
          "name": "stdout",
          "text": [
            "['airplane', 'car', 'cat', 'dog', 'flower', 'fruit', 'motorbike', 'person']\n"
          ]
        }
      ]
    },
    {
      "cell_type": "code",
      "source": [
        "from PIL import Image\n",
        "\n",
        "def resize_func(originl_image, size=(128,128)): \n",
        "    from PIL import Image, ImageOps \n",
        "    originl_image.thumbnail(size, Image.ANTIALIAS)\n",
        "    resized_image = Image.new(\"RGB\", size)  \n",
        "    resized_image.paste(originl_image, (int((size[0] - originl_image.size[0]) / 2), int((size[1] - originl_image.size[1]) / 2)))\n",
        "    return resized_image"
      ],
      "metadata": {
        "id": "8aw88_98SgNG"
      },
      "execution_count": 4,
      "outputs": []
    },
    {
      "cell_type": "code",
      "source": [
        "new_train_path = r'NEW DATA'\n",
        "size=(128,128)\n",
        "for main_path, folders, files in os.walk(original_data_path):\n",
        "    for sub_folder in folders:\n",
        "        path_to_save = os.path.join(new_train_path,sub_folder)\n",
        "        if not os.path.exists(path_to_save):\n",
        "            os.makedirs(path_to_save)\n",
        "        file_names = os.listdir(os.path.join(main_path,sub_folder))\n",
        "        for file_name in file_names:\n",
        "            file_path = os.path.join(main_path,sub_folder, file_name)\n",
        "            img = Image.open(file_path)\n",
        "            resized_image = resize_func(img, size)\n",
        "            to_save = os.path.join(path_to_save, file_name)\n",
        "            resized_image.save(to_save)"
      ],
      "metadata": {
        "id": "ukczrY5NSpQx"
      },
      "execution_count": 5,
      "outputs": []
    },
    {
      "cell_type": "markdown",
      "source": [
        "# **Data Augmentation and Data Loade**"
      ],
      "metadata": {
        "id": "dRnbp-zsTAgw"
      }
    },
    {
      "cell_type": "code",
      "source": [
        "def load_dataset(data_path , real_data_path):\n",
        "    aug_object = transforms.Compose([\n",
        "        transforms.RandomHorizontalFlip(0.4),\n",
        "        transforms.RandomVerticalFlip(0.4),\n",
        "        transforms.ToTensor(),\n",
        "        transforms.Normalize(mean=[0.5, 0.5, 0.5], std=[0.5, 0.5, 0.5])\n",
        "    ])\n",
        "\n",
        "    total_data = torchvision.datasets.ImageFolder(\n",
        "        root=data_path,\n",
        "        transform=aug_object\n",
        "    )\n",
        "    \n",
        "    real_data = torchvision.datasets.ImageFolder(\n",
        "        root=real_data_path,\n",
        "        transform=aug_object\n",
        "    )\n",
        "    \n",
        "    \n",
        "    train_precentage = int(0.9 * len(total_data))\n",
        "    test_precentage = len(total_data) - train_precentage\n",
        "    \n",
        "    train_dataset, test_dataset = torch.utils.data.random_split(total_data, [train_precentage, test_precentage])\n",
        "    \n",
        "    train_loader = torch.utils.data.DataLoader(\n",
        "        train_dataset,\n",
        "        batch_size=64,\n",
        "        num_workers=0,\n",
        "        shuffle=False\n",
        "    )\n",
        "    \n",
        "    test_loader = torch.utils.data.DataLoader(\n",
        "        test_dataset,\n",
        "        batch_size=64,\n",
        "        num_workers=0,\n",
        "        shuffle=False\n",
        "    )\n",
        "    \n",
        "    real_loader = torch.utils.data.DataLoader(\n",
        "        test_dataset,\n",
        "        batch_size=4,\n",
        "        num_workers=0,\n",
        "        shuffle=False\n",
        "    )\n",
        "    \n",
        "        \n",
        "    return train_loader, test_loader,real_loader"
      ],
      "metadata": {
        "id": "PtR6m3uzTEf_"
      },
      "execution_count": 6,
      "outputs": []
    },
    {
      "cell_type": "code",
      "source": [
        "train_loader , test_loader , real_loader = load_dataset(new_train_path , real_data_path)\n",
        "batch_size = train_loader.batch_size"
      ],
      "metadata": {
        "id": "qPH1nwOiTLGY"
      },
      "execution_count": 7,
      "outputs": []
    },
    {
      "cell_type": "markdown",
      "source": [
        "# **Design and Build the Model Architecture**"
      ],
      "metadata": {
        "id": "l44NaJBkTLtJ"
      }
    },
    {
      "cell_type": "code",
      "source": [
        "class Network(nn.Module):\n",
        "\n",
        "    def __init__(self, num_classes):\n",
        "        super(Network, self).__init__()\n",
        "\n",
        "        self.conv1 = nn.Conv2d(in_channels=3, out_channels=8, kernel_size=3, stride=1, padding=1)\n",
        "        self.conv2 = nn.Conv2d(in_channels=8, out_channels=32, kernel_size=3, stride=1, padding=1)   \n",
        "        self.pool = nn.MaxPool2d(kernel_size=2)      \n",
        "        self.drop = nn.Dropout2d(p=0.3)      \n",
        "        self.fc = nn.Linear(in_features=32 * 32 * 32, out_features=num_classes)\n",
        "\n",
        "    def forward(self, x):        \n",
        "        x = F.relu(self.pool(self.conv1(x))) \n",
        "        x = F.relu(self.pool(self.conv2(x)))          \n",
        "        x = F.dropout(self.drop(x), training=self.training)\n",
        "        x = x.view(-1, 32 * 32 * 32)\n",
        "        x = self.fc(x)\n",
        "        return torch.log_softmax(x, dim=1)\n",
        "\n",
        "model = Network(num_classes=len(labels))\n",
        "\n",
        "print(model)"
      ],
      "metadata": {
        "id": "mc7vaG-GTQA-",
        "colab": {
          "base_uri": "https://localhost:8080/"
        },
        "outputId": "437f3ffa-fa7a-45d8-e14f-a6923032ce8a"
      },
      "execution_count": 8,
      "outputs": [
        {
          "output_type": "stream",
          "name": "stdout",
          "text": [
            "Network(\n",
            "  (conv1): Conv2d(3, 8, kernel_size=(3, 3), stride=(1, 1), padding=(1, 1))\n",
            "  (conv2): Conv2d(8, 32, kernel_size=(3, 3), stride=(1, 1), padding=(1, 1))\n",
            "  (pool): MaxPool2d(kernel_size=2, stride=2, padding=0, dilation=1, ceil_mode=False)\n",
            "  (drop): Dropout2d(p=0.3, inplace=False)\n",
            "  (fc): Linear(in_features=32768, out_features=8, bias=True)\n",
            ")\n"
          ]
        }
      ]
    },
    {
      "cell_type": "markdown",
      "source": [
        "# **Define the Train Function**"
      ],
      "metadata": {
        "id": "5Cd3phMmTXdw"
      }
    },
    {
      "cell_type": "code",
      "source": [
        "def train_model(model, train_loader, optimizer, epoch):\n",
        "    model.train()\n",
        "    train_loss = 0\n",
        "    print(\"Epoch number is:\", epoch)\n",
        "    for batch_index, (image, label) in enumerate(train_loader):\n",
        "        optimizer.zero_grad()\n",
        "        predicted_label = model(image)    \n",
        "        loss = loss_function(predicted_label, label)\n",
        "        train_loss += loss.item()       \n",
        "        loss.backward()\n",
        "        optimizer.step()     \n",
        "#         print('\\tTraining batch {} Loss: {:.6f}'.format(batch_index + 1, loss.item()))\n",
        "            \n",
        "    average_loss = train_loss / (batch_index+1)\n",
        "    print('Training set: Average loss: {:.6f}'.format(average_loss))\n",
        "    return average_loss"
      ],
      "metadata": {
        "id": "Arvczty-TYTJ"
      },
      "execution_count": 9,
      "outputs": []
    },
    {
      "cell_type": "markdown",
      "source": [
        "# **Define the Test Function**"
      ],
      "metadata": {
        "id": "fTNgCWvXTeTB"
      }
    },
    {
      "cell_type": "code",
      "source": [
        "def test_model(model,  test_loader):\n",
        "    model.eval()\n",
        "    test_loss = 0\n",
        "    true_cnt = 0\n",
        "    with torch.no_grad():\n",
        "        batch_index = 0\n",
        "        for image, label in test_loader:\n",
        "            batch_index += 1\n",
        "            predicted_label = model(image)\n",
        "            \n",
        "            test_loss += loss_function(predicted_label, label).item()\n",
        "            \n",
        "            _, predicted = torch.max(predicted_label.data, 1)\n",
        "            true_cnt += torch.sum(label==predicted).item()\n",
        "\n",
        "    average_loss = test_loss / batch_index\n",
        "    print('Validation set: Average loss: {:.6f}, Accuracy: {}/{} ({:.0f}%)\\n'.format(\n",
        "        average_loss, true_cnt, len(test_loader.dataset),100. * true_cnt / len(test_loader.dataset)))\n",
        "    \n",
        "    return average_loss"
      ],
      "metadata": {
        "id": "Fuqqa2SZTgM3"
      },
      "execution_count": 10,
      "outputs": []
    },
    {
      "cell_type": "markdown",
      "source": [
        "# **Model Training and Evaluation using Loss and Accuracy**"
      ],
      "metadata": {
        "id": "9VhVEgMRTnC6"
      }
    },
    {
      "cell_type": "code",
      "source": [
        "optimizer = optim.Adam(model.parameters(), lr=0.001)\n",
        "\n",
        "loss_function = nn.CrossEntropyLoss()\n",
        "\n",
        "epoch_number = []\n",
        "training_loss = []\n",
        "validation_loss = []\n",
        "\n",
        "epochs = 50\n",
        "for epoch in range(1, epochs + 1):\n",
        "        train_loss = train_model(model, train_loader, optimizer, epoch)\n",
        "        test_loss = test_model(model, test_loader)\n",
        "        epoch_number.append(epoch)\n",
        "        training_loss.append(train_loss)\n",
        "        validation_loss.append(test_loss)"
      ],
      "metadata": {
        "id": "a_LH2bEdToXj",
        "colab": {
          "base_uri": "https://localhost:8080/"
        },
        "outputId": "c4cfffbf-7ef1-4a1b-fde3-e3c885fe779f"
      },
      "execution_count": 11,
      "outputs": [
        {
          "output_type": "stream",
          "name": "stdout",
          "text": [
            "Epoch number is: 1\n",
            "Training set: Average loss: 0.663293\n",
            "Validation set: Average loss: 0.366815, Accuracy: 590/693 (85%)\n",
            "\n",
            "Epoch number is: 2\n",
            "Training set: Average loss: 0.391420\n",
            "Validation set: Average loss: 0.310034, Accuracy: 597/693 (86%)\n",
            "\n",
            "Epoch number is: 3\n",
            "Training set: Average loss: 0.310587\n",
            "Validation set: Average loss: 0.244434, Accuracy: 618/693 (89%)\n",
            "\n",
            "Epoch number is: 4\n",
            "Training set: Average loss: 0.267829\n",
            "Validation set: Average loss: 0.235135, Accuracy: 618/693 (89%)\n",
            "\n",
            "Epoch number is: 5\n",
            "Training set: Average loss: 0.243708\n",
            "Validation set: Average loss: 0.238666, Accuracy: 619/693 (89%)\n",
            "\n",
            "Epoch number is: 6\n",
            "Training set: Average loss: 0.231418\n",
            "Validation set: Average loss: 0.216180, Accuracy: 625/693 (90%)\n",
            "\n",
            "Epoch number is: 7\n",
            "Training set: Average loss: 0.217077\n",
            "Validation set: Average loss: 0.187837, Accuracy: 630/693 (91%)\n",
            "\n",
            "Epoch number is: 8\n",
            "Training set: Average loss: 0.207808\n",
            "Validation set: Average loss: 0.207765, Accuracy: 631/693 (91%)\n",
            "\n",
            "Epoch number is: 9\n",
            "Training set: Average loss: 0.205487\n",
            "Validation set: Average loss: 0.211560, Accuracy: 623/693 (90%)\n",
            "\n",
            "Epoch number is: 10\n",
            "Training set: Average loss: 0.191862\n",
            "Validation set: Average loss: 0.203843, Accuracy: 626/693 (90%)\n",
            "\n",
            "Epoch number is: 11\n",
            "Training set: Average loss: 0.187819\n",
            "Validation set: Average loss: 0.208428, Accuracy: 623/693 (90%)\n",
            "\n",
            "Epoch number is: 12\n",
            "Training set: Average loss: 0.185856\n",
            "Validation set: Average loss: 0.190497, Accuracy: 623/693 (90%)\n",
            "\n",
            "Epoch number is: 13\n",
            "Training set: Average loss: 0.179783\n",
            "Validation set: Average loss: 0.180994, Accuracy: 635/693 (92%)\n",
            "\n",
            "Epoch number is: 14\n",
            "Training set: Average loss: 0.174795\n",
            "Validation set: Average loss: 0.175961, Accuracy: 639/693 (92%)\n",
            "\n",
            "Epoch number is: 15\n",
            "Training set: Average loss: 0.172582\n",
            "Validation set: Average loss: 0.201035, Accuracy: 630/693 (91%)\n",
            "\n",
            "Epoch number is: 16\n",
            "Training set: Average loss: 0.172791\n",
            "Validation set: Average loss: 0.181952, Accuracy: 632/693 (91%)\n",
            "\n",
            "Epoch number is: 17\n",
            "Training set: Average loss: 0.166664\n",
            "Validation set: Average loss: 0.176349, Accuracy: 635/693 (92%)\n",
            "\n",
            "Epoch number is: 18\n",
            "Training set: Average loss: 0.156376\n",
            "Validation set: Average loss: 0.185672, Accuracy: 639/693 (92%)\n",
            "\n",
            "Epoch number is: 19\n",
            "Training set: Average loss: 0.154688\n",
            "Validation set: Average loss: 0.183409, Accuracy: 634/693 (91%)\n",
            "\n",
            "Epoch number is: 20\n",
            "Training set: Average loss: 0.150850\n",
            "Validation set: Average loss: 0.190319, Accuracy: 631/693 (91%)\n",
            "\n",
            "Epoch number is: 21\n",
            "Training set: Average loss: 0.153052\n",
            "Validation set: Average loss: 0.181482, Accuracy: 635/693 (92%)\n",
            "\n",
            "Epoch number is: 22\n",
            "Training set: Average loss: 0.141505\n",
            "Validation set: Average loss: 0.194746, Accuracy: 633/693 (91%)\n",
            "\n",
            "Epoch number is: 23\n",
            "Training set: Average loss: 0.152483\n",
            "Validation set: Average loss: 0.163493, Accuracy: 641/693 (92%)\n",
            "\n",
            "Epoch number is: 24\n",
            "Training set: Average loss: 0.140655\n",
            "Validation set: Average loss: 0.174204, Accuracy: 638/693 (92%)\n",
            "\n",
            "Epoch number is: 25\n",
            "Training set: Average loss: 0.145472\n",
            "Validation set: Average loss: 0.181062, Accuracy: 634/693 (91%)\n",
            "\n",
            "Epoch number is: 26\n",
            "Training set: Average loss: 0.137104\n",
            "Validation set: Average loss: 0.178195, Accuracy: 630/693 (91%)\n",
            "\n",
            "Epoch number is: 27\n",
            "Training set: Average loss: 0.140151\n",
            "Validation set: Average loss: 0.184080, Accuracy: 642/693 (93%)\n",
            "\n",
            "Epoch number is: 28\n",
            "Training set: Average loss: 0.138027\n",
            "Validation set: Average loss: 0.180116, Accuracy: 628/693 (91%)\n",
            "\n",
            "Epoch number is: 29\n",
            "Training set: Average loss: 0.134794\n",
            "Validation set: Average loss: 0.186048, Accuracy: 635/693 (92%)\n",
            "\n",
            "Epoch number is: 30\n",
            "Training set: Average loss: 0.132433\n",
            "Validation set: Average loss: 0.175599, Accuracy: 641/693 (92%)\n",
            "\n",
            "Epoch number is: 31\n",
            "Training set: Average loss: 0.124020\n",
            "Validation set: Average loss: 0.175396, Accuracy: 632/693 (91%)\n",
            "\n",
            "Epoch number is: 32\n",
            "Training set: Average loss: 0.131676\n",
            "Validation set: Average loss: 0.179969, Accuracy: 633/693 (91%)\n",
            "\n",
            "Epoch number is: 33\n",
            "Training set: Average loss: 0.128463\n",
            "Validation set: Average loss: 0.190254, Accuracy: 637/693 (92%)\n",
            "\n",
            "Epoch number is: 34\n",
            "Training set: Average loss: 0.116194\n",
            "Validation set: Average loss: 0.173813, Accuracy: 636/693 (92%)\n",
            "\n",
            "Epoch number is: 35\n",
            "Training set: Average loss: 0.116162\n",
            "Validation set: Average loss: 0.178357, Accuracy: 638/693 (92%)\n",
            "\n",
            "Epoch number is: 36\n",
            "Training set: Average loss: 0.114407\n",
            "Validation set: Average loss: 0.177289, Accuracy: 644/693 (93%)\n",
            "\n",
            "Epoch number is: 37\n",
            "Training set: Average loss: 0.122454\n",
            "Validation set: Average loss: 0.185044, Accuracy: 626/693 (90%)\n",
            "\n",
            "Epoch number is: 38\n",
            "Training set: Average loss: 0.110994\n",
            "Validation set: Average loss: 0.191360, Accuracy: 632/693 (91%)\n",
            "\n",
            "Epoch number is: 39\n",
            "Training set: Average loss: 0.106575\n",
            "Validation set: Average loss: 0.183559, Accuracy: 631/693 (91%)\n",
            "\n",
            "Epoch number is: 40\n",
            "Training set: Average loss: 0.110149\n",
            "Validation set: Average loss: 0.181093, Accuracy: 635/693 (92%)\n",
            "\n",
            "Epoch number is: 41\n",
            "Training set: Average loss: 0.108652\n",
            "Validation set: Average loss: 0.196642, Accuracy: 638/693 (92%)\n",
            "\n",
            "Epoch number is: 42\n",
            "Training set: Average loss: 0.109310\n",
            "Validation set: Average loss: 0.194044, Accuracy: 636/693 (92%)\n",
            "\n",
            "Epoch number is: 43\n",
            "Training set: Average loss: 0.107072\n",
            "Validation set: Average loss: 0.181609, Accuracy: 639/693 (92%)\n",
            "\n",
            "Epoch number is: 44\n",
            "Training set: Average loss: 0.108456\n",
            "Validation set: Average loss: 0.205717, Accuracy: 636/693 (92%)\n",
            "\n",
            "Epoch number is: 45\n",
            "Training set: Average loss: 0.106630\n",
            "Validation set: Average loss: 0.181974, Accuracy: 639/693 (92%)\n",
            "\n",
            "Epoch number is: 46\n",
            "Training set: Average loss: 0.103620\n",
            "Validation set: Average loss: 0.175394, Accuracy: 635/693 (92%)\n",
            "\n",
            "Epoch number is: 47\n",
            "Training set: Average loss: 0.112692\n",
            "Validation set: Average loss: 0.181370, Accuracy: 639/693 (92%)\n",
            "\n",
            "Epoch number is: 48\n",
            "Training set: Average loss: 0.099184\n",
            "Validation set: Average loss: 0.187852, Accuracy: 638/693 (92%)\n",
            "\n",
            "Epoch number is: 49\n",
            "Training set: Average loss: 0.096089\n",
            "Validation set: Average loss: 0.182866, Accuracy: 643/693 (93%)\n",
            "\n",
            "Epoch number is: 50\n",
            "Training set: Average loss: 0.093534\n",
            "Validation set: Average loss: 0.179567, Accuracy: 637/693 (92%)\n",
            "\n"
          ]
        }
      ]
    },
    {
      "cell_type": "markdown",
      "source": [
        "# **Training and Validation Loss Changes over Epochs**"
      ],
      "metadata": {
        "id": "FXlI81pJTtIy"
      }
    },
    {
      "cell_type": "code",
      "source": [
        "plt.figure(figsize=(8,6))\n",
        "plt.plot(epoch_number, training_loss)\n",
        "plt.plot(epoch_number, validation_loss)\n",
        "plt.title('Training and Validation Loss vs Epochs', size = 12)\n",
        "plt.xlabel('Epoch Number' , size = 12)\n",
        "plt.ylabel('Loss Value' , size = 12)\n",
        "plt.legend(['Training', 'Validation'], loc='upper right')\n",
        "plt.show()"
      ],
      "metadata": {
        "id": "cIRueLW0Ttuw",
        "colab": {
          "base_uri": "https://localhost:8080/",
          "height": 407
        },
        "outputId": "73d309d7-20bd-4bb7-ad42-32a158ec8a8a"
      },
      "execution_count": 12,
      "outputs": [
        {
          "output_type": "display_data",
          "data": {
            "text/plain": [
              "<Figure size 576x432 with 1 Axes>"
            ],
            "image/png": "[encoded data removed]"
          },
          "metadata": {
            "needs_background": "light"
          }
        }
      ]
    },
    {
      "cell_type": "markdown",
      "source": [
        "# **Confusion Matrix**"
      ],
      "metadata": {
        "id": "9GOYOulmTwFB"
      }
    },
    {
      "cell_type": "code",
      "source": [
        "true_labels = []\n",
        "predicted_labels = []\n",
        "model.eval()\n",
        "for data, target in test_loader:\n",
        "    for label in target.data.numpy():\n",
        "        true_labels.append(label)\n",
        "    for prediction in model(data).data.numpy().argmax(1):\n",
        "        predicted_labels.append(prediction) \n",
        "\n",
        "cm = confusion_matrix(true_labels, predicted_labels)\n",
        "tick_marks = np.arange(len(labels))\n",
        "\n",
        "df_cm = pd.DataFrame(cm, index = labels, columns = labels)\n",
        "plt.figure(figsize = (7,7))\n",
        "sns.heatmap(df_cm, annot=True, cmap=plt.cm.Blues, fmt='g')\n",
        "plt.xlabel(\"Predicted Labels\", fontsize = 20)\n",
        "plt.ylabel(\"True Labels\", fontsize = 20)\n",
        "plt.show()"
      ],
      "metadata": {
        "id": "Krx6MML2Tyf-",
        "colab": {
          "base_uri": "https://localhost:8080/",
          "height": 492
        },
        "outputId": "65469403-7dd7-45fb-c6a9-1b9ff797b46a"
      },
      "execution_count": 13,
      "outputs": [
        {
          "output_type": "display_data",
          "data": {
            "text/plain": [
              "<Figure size 504x504 with 2 Axes>"
            ],
            "image/png": "[encoded data removed]"
          },
          "metadata": {
            "needs_background": "light"
          }
        }
      ]
    },
    {
      "cell_type": "markdown",
      "source": [
        "# **Test the model on real data**"
      ],
      "metadata": {
        "id": "DPF2FaRKT0rF"
      }
    },
    {
      "cell_type": "code",
      "source": [
        "def test_model_real(model,  real_loader):\n",
        "    test_loss = 0\n",
        "    true_cnt = 0\n",
        "    with torch.no_grad():\n",
        "        batch_index = 0\n",
        "        for image, label in real_loader:\n",
        "            batch_index += 1\n",
        "            predicted_label = model(image)\n",
        "            \n",
        "            test_loss += loss_function(predicted_label, label).item()\n",
        "            \n",
        "            _, predicted = torch.max(predicted_label.data, 1)\n",
        "            true_cnt += torch.sum(label==predicted).item()\n",
        "\n",
        "    average_loss = test_loss / batch_index\n",
        "    print('Validation set: Average loss: {:.6f}, Accuracy: {}/{} ({:.0f}%)\\n'.format(\n",
        "        average_loss, true_cnt, len(real_loader.dataset),100. * true_cnt / len(real_loader.dataset)))\n",
        "    \n",
        "    return average_loss"
      ],
      "metadata": {
        "id": "nhSjVJEbT3SQ"
      },
      "execution_count": 15,
      "outputs": []
    },
    {
      "cell_type": "code",
      "source": [
        "real_test_loss = test_model_real(model, real_loader)"
      ],
      "metadata": {
        "id": "0ceg1wYfT8pu",
        "colab": {
          "base_uri": "https://localhost:8080/"
        },
        "outputId": "cf82ad38-6046-4a2f-e132-dca300113ee7"
      },
      "execution_count": 16,
      "outputs": [
        {
          "output_type": "stream",
          "name": "stdout",
          "text": [
            "Validation set: Average loss: 0.182397, Accuracy: 641/693 (92%)\n",
            "\n"
          ]
        }
      ]
    }
  ]
}